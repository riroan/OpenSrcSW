{
 "cells": [
  {
   "cell_type": "code",
   "execution_count": 1,
   "metadata": {},
   "outputs": [
    {
     "name": "stdout",
     "output_type": "stream",
     "text": [
      "죽는 날까지 하늘을 우러러\n",
      "한 점 부끄럼이 없기를,\n",
      "잎새에 이는 바람에도\n",
      "너는 괴로워했다.\n",
      "별을 노래하는 마음으로\n",
      "모든 죽어가는 것을 사랑해야지\n",
      "그리고 너한테 주어진 길을\n",
      "걸어가야겠다.\n",
      "오늘 밤에도 별이 바람에 스치운다.\n"
     ]
    }
   ],
   "source": [
    "print('''   죽는 날까지 하늘을 우러러\n",
    "한 점 부끄럼이 없기를,\n",
    "잎새에 이는 바람에도\n",
    "나는 괴로워했다.\n",
    "별을 노래하는 마음으로\n",
    "모든 죽어가는 것을 사랑해야지\n",
    "그리고 나한테 주어진 길을\n",
    "걸어가야겠다.\n",
    "오늘 밤에도 별이 바람에 스치운다.    '''.strip().replace(\"나\",\"너\"))"
   ]
  },
  {
   "cell_type": "code",
   "execution_count": 2,
   "metadata": {},
   "outputs": [
    {
     "name": "stdout",
     "output_type": "stream",
     "text": [
      "Max = 456\n"
     ]
    }
   ],
   "source": [
    "arr = list(map(int,input(\"Numbers?\").split()))\n",
    "m = arr[0]\n",
    "for i in arr:\n",
    "    if m < i:\n",
    "        m = i\n",
    "print(f\"Max = {m}\")"
   ]
  },
  {
   "cell_type": "code",
   "execution_count": 15,
   "metadata": {},
   "outputs": [
    {
     "name": "stdout",
     "output_type": "stream",
     "text": [
      "\"abc def\" is encoded into \"efg!bcd\"\n",
      "\"efg!bcd\" is decoded into \"abc def\"\n"
     ]
    }
   ],
   "source": [
    "def enc(s, key):\n",
    "    return f\"{chr(ord(' ')+key)}\".join([(lambda x: \"\".join([chr(ord(i)+key) for i in x]))(i) for i in s.split()[::-1]])\n",
    "\n",
    "def dec(s, key):\n",
    "    return \" \".join(\"\".join([chr(ord(i)-key) for i in s]).split()[::-1])\n",
    "\n",
    "s = \"abc def\"\n",
    "enc_s = enc(s, 1)\n",
    "print(f'\"{s}\" is encoded into \"{enc_s}\"')\n",
    "\n",
    "dec_s = dec(enc_s, 1)\n",
    "print(f'\"{enc_s}\" is decoded into \"{dec_s}\"')"
   ]
  }
 ],
 "metadata": {
  "interpreter": {
   "hash": "916dbcbb3f70747c44a77c7bcd40155683ae19c65e1c03b4aa3499c5328201f1"
  },
  "kernelspec": {
   "display_name": "Python 3.8.10 64-bit",
   "language": "python",
   "name": "python3"
  },
  "language_info": {
   "codemirror_mode": {
    "name": "ipython",
    "version": 3
   },
   "file_extension": ".py",
   "mimetype": "text/x-python",
   "name": "python",
   "nbconvert_exporter": "python",
   "pygments_lexer": "ipython3",
   "version": "3.8.10"
  },
  "orig_nbformat": 4
 },
 "nbformat": 4,
 "nbformat_minor": 2
}
