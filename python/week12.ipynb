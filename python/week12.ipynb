{
 "cells": [
  {
   "cell_type": "code",
   "execution_count": 21,
   "metadata": {},
   "outputs": [
    {
     "name": "stdout",
     "output_type": "stream",
     "text": [
      "일교차가 가장 큰 날\n",
      "날짜 2021-01-22 , 일교차  -1.8\n",
      "최저기온이 가장 낮은 날\n",
      "날짜 2021-01-08 , 최저기온  -10.7\n",
      "최고기온이 가장 높은 날\n",
      "날짜 2021-07-27 , 최고기온  27.8\n"
     ]
    }
   ],
   "source": [
    "import csv\n",
    "f = open(\"week12_1.csv\", encoding=\"cp949\")\n",
    "data = csv.reader(f)\n",
    "data = [i for i in data]\n",
    "f.close()\n",
    "INF = 987654321\n",
    "max_diff, max_high, min_low = -INF, -INF, INF\n",
    "max_diff_ix, max_high_ix, min_low_ix = -1,-1,-1\n",
    "for i in range(len(data)):\n",
    "    _,_,a,h,l=data[i]\n",
    "    h,a,l = map(float, [h,a,l])\n",
    "    if max_diff < h-l:\n",
    "        max_diff = h-l\n",
    "        max_diff_ix = i\n",
    "    if max_high < h:\n",
    "        max_high = h\n",
    "        max_high_ix = i\n",
    "    if min_low > l:\n",
    "        min_low = l\n",
    "        min_low_ix = i\n",
    "print(\"일교차가 가장 큰 날\")\n",
    "print(\"날짜\", data[max_diff_ix][0], \", 일교차 \",round(max_diff,1))\n",
    "print(\"최저기온이 가장 낮은 날\")\n",
    "print(\"날짜\", data[min_low_ix][0], \", 최저기온 \",min_low)\n",
    "print(\"최고기온이 가장 높은 날\")\n",
    "print(\"날짜\", data[max_high_ix][0], \", 최고기온 \", max_high)\n"
   ]
  },
  {
   "cell_type": "code",
   "execution_count": 31,
   "metadata": {},
   "outputs": [
    {
     "name": "stdout",
     "output_type": "stream",
     "text": [
      "이용객이 가장 많은 역 순위\n",
      "1호선. 서울역 (2324817)\n",
      "2호선. 강남 (4364436)\n",
      "3호선. 고속터미널 (2393331)\n",
      "4호선. 수유(강북구청) (1852687)\n",
      "5호선. 광화문(세종문화회관) (1585762)\n",
      "6호선. 응암 (943562)\n",
      "7호선. 가산디지털단지 (2272388)\n",
      "8호선. 문정 (1130604)\n",
      "9호선. 신논현 (1735678)\n",
      "9호선2~3단계. 봉은사 (931073)\n",
      "경강선. 경기광주 (397527)\n",
      "경부선. 영등포 (2256385)\n",
      "경원선. 의정부 (1063474)\n",
      "경의선. 일산 (496084)\n",
      "경인선. 부천 (1799939)\n",
      "경춘선. 평내호평 (322875)\n",
      "공항철도 1호선. 디지털미디어시티 (657629)\n",
      "과천선. 범계 (1396198)\n",
      "분당선. 야탑 (1425589)\n",
      "수인선. 인하대 (310934)\n",
      "안산선. 중앙 (1001865)\n",
      "우이신설선. 북한산보국문 (316562)\n",
      "일산선. 삼송 (1027489)\n",
      "장항선. 온양온천 (203279)\n",
      "중앙선. 회기 (1307591)\n",
      "이용객이 가장 적은 역 순위\n",
      "1호선. 동묘앞 (477540)\n",
      "2호선. 도림천 (73495)\n",
      "3호선. 충무로 (24)\n",
      "4호선. 남태령 (61860)\n",
      "5호선. 동대문역사문화공원(DDP) (158553)\n",
      "6호선. 신내 (8)\n",
      "7호선. 장암 (85870)\n",
      "8호선. 남위례 (85989)\n",
      "9호선. 구반포 (88309)\n",
      "9호선2~3단계. 둔촌오륜 (59273)\n",
      "경강선. 세종대왕릉 (16870)\n",
      "경부선. 직산 (42371)\n",
      "경원선. 창동 (8)\n",
      "경의선. 검암 (2)\n",
      "경인선. 도원 (158971)\n",
      "경춘선. 굴봉산 (7460)\n",
      "공항철도 1호선. 인천공항2터미널 (126634)\n",
      "과천선. 대공원 (137405)\n",
      "분당선. 복정 (16)\n",
      "수인선. 달월 (4426)\n",
      "안산선. 신길온천 (91223)\n",
      "우이신설선. 보문 (82223)\n",
      "일산선. 지축 (11)\n",
      "장항선. 탕정 (20015)\n",
      "중앙선. 지평 (3468)\n"
     ]
    }
   ],
   "source": [
    "import csv\n",
    "from collections import defaultdict\n",
    "d = defaultdict(list)\n",
    "f = open(\"week12_2.csv\", encoding=\"utf-8\")\n",
    "data = csv.reader(f)\n",
    "for row in data:\n",
    "    _, line, _, name, num1, num2 = row\n",
    "    if line == \"호선명\":\n",
    "        continue\n",
    "    num1 = int(num1.replace(\",\",\"\"))\n",
    "    num2 = int(num2.replace(\",\",\"\"))\n",
    "    d[line].append([name, num1+num2])\n",
    "f.close()\n",
    "INF = 987654321\n",
    "answer = defaultdict(dict)\n",
    "for i in d:\n",
    "    minNum, maxNum = INF, -INF\n",
    "    minName, maxName = \"\",\"\"\n",
    "    for j in d[i]:\n",
    "        name, num = j\n",
    "        if minNum > num:\n",
    "            minNum = num\n",
    "            minName = name\n",
    "        if maxNum < num:\n",
    "            maxNum = num\n",
    "            maxName = name\n",
    "    answer[i][\"min\"] = [minNum, minName]\n",
    "    answer[i][\"max\"] = [maxNum, maxName]\n",
    "print(\"이용객이 가장 많은 역 순위\")\n",
    "for i in sorted(answer):\n",
    "    print(f\"{i}. {answer[i]['max'][1]} ({answer[i]['max'][0]})\")\n",
    "\n",
    "print(\"이용객이 가장 적은 역 순위\")\n",
    "for i in sorted(answer):\n",
    "    print(f\"{i}. {answer[i]['min'][1]} ({answer[i]['min'][0]})\")\n"
   ]
  }
 ],
 "metadata": {
  "interpreter": {
   "hash": "916dbcbb3f70747c44a77c7bcd40155683ae19c65e1c03b4aa3499c5328201f1"
  },
  "kernelspec": {
   "display_name": "Python 3.8.10 64-bit",
   "language": "python",
   "name": "python3"
  },
  "language_info": {
   "codemirror_mode": {
    "name": "ipython",
    "version": 3
   },
   "file_extension": ".py",
   "mimetype": "text/x-python",
   "name": "python",
   "nbconvert_exporter": "python",
   "pygments_lexer": "ipython3",
   "version": "3.8.10"
  },
  "orig_nbformat": 4
 },
 "nbformat": 4,
 "nbformat_minor": 2
}
