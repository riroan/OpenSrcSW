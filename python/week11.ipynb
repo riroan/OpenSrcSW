{
 "cells": [
  {
   "cell_type": "code",
   "execution_count": 9,
   "metadata": {},
   "outputs": [
    {
     "name": "stdout",
     "output_type": "stream",
     "text": [
      "파이썬 2\n",
      "파일 2\n",
      "읽기 2\n",
      "예제입니다. 2\n",
      "다양한 1\n",
      "메소드를 1\n",
      "공부해 1\n",
      "보세요. 1\n",
      "실력이 1\n",
      "팍팍 1\n",
      "늘 1\n",
      "거예요~ 1\n",
      "단어 1\n",
      "수를 1\n",
      "카운트하는 1\n",
      "실습 1\n"
     ]
    }
   ],
   "source": [
    "from collections import defaultdict\n",
    "words = defaultdict(int)\n",
    "with open(\"README.txt\", \"r\") as f:\n",
    "    for line in f:\n",
    "        for word in line.strip().split():\n",
    "            words[word] += 1\n",
    "for word in words:\n",
    "    print(word, words[word])"
   ]
  },
  {
   "cell_type": "code",
   "execution_count": 14,
   "metadata": {},
   "outputs": [
    {
     "name": "stdout",
     "output_type": "stream",
     "text": [
      "(1, 2)\n",
      "(3, 4)\n",
      "leftTop : (1, 2)\n",
      "rightBottom : (3, 4)\n",
      "leftTop : (3, 5)\n",
      "rightBottom : (5, 7)\n"
     ]
    }
   ],
   "source": [
    "class Point:\n",
    "    def __init__(self, x, y):\n",
    "        self.x = x\n",
    "        self.y = y\n",
    "    \n",
    "    def move(self, dx, dy):\n",
    "        self.x += dx\n",
    "        self.y += dy\n",
    "    \n",
    "    def show(self):\n",
    "        print(f\"({self.x}, {self.y})\")\n",
    "\n",
    "class Box(Point):\n",
    "    def __init__(self, p1, p2):\n",
    "        self.leftTop = p1\n",
    "        self.rightBottom = p2\n",
    "    \n",
    "    def move(self, dx, dy):\n",
    "        self.leftTop.move(dx, dy)\n",
    "        self.rightBottom.move(dx, dy)\n",
    "    \n",
    "    def show(self):\n",
    "        print(\"leftTop : \", end=\"\")\n",
    "        self.leftTop.show()\n",
    "        print(\"rightBottom : \", end=\"\")\n",
    "        self.rightBottom.show()\n",
    "\n",
    "p1 = Point(1,2)\n",
    "p2 = Point(3,4)\n",
    "box = Box(p1, p2)\n",
    "p1.show()\n",
    "p2.show()\n",
    "box.show()\n",
    "box.move(2,3)\n",
    "box.show()"
   ]
  }
 ],
 "metadata": {
  "interpreter": {
   "hash": "916dbcbb3f70747c44a77c7bcd40155683ae19c65e1c03b4aa3499c5328201f1"
  },
  "kernelspec": {
   "display_name": "Python 3.8.10 64-bit",
   "language": "python",
   "name": "python3"
  },
  "language_info": {
   "codemirror_mode": {
    "name": "ipython",
    "version": 3
   },
   "file_extension": ".py",
   "mimetype": "text/x-python",
   "name": "python",
   "nbconvert_exporter": "python",
   "pygments_lexer": "ipython3",
   "version": "3.8.10"
  },
  "orig_nbformat": 4
 },
 "nbformat": 4,
 "nbformat_minor": 2
}
